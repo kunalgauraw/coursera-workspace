{
  "nbformat": 4,
  "nbformat_minor": 0,
  "metadata": {
    "colab": {
      "name": "Capstone Project Notebook.ipynb",
      "provenance": [],
      "collapsed_sections": [],
      "authorship_tag": "ABX9TyMfikfDkKAM97qqWZ1b0vMH"
    },
    "kernelspec": {
      "name": "python3",
      "display_name": "Python 3"
    }
  },
  "cells": [
    {
      "cell_type": "markdown",
      "metadata": {
        "id": "KSm-ZL9RNJJs",
        "colab_type": "text"
      },
      "source": [
        "# Data Science Capstone Project Notebook\n",
        "This notebook is for [Applied Data Science Capstone course](https://www.coursera.org/learn/applied-data-science-capstone/home/welcome)."
      ]
    },
    {
      "cell_type": "code",
      "metadata": {
        "id": "Eyn8baH5OGHo",
        "colab_type": "code",
        "colab": {}
      },
      "source": [
        "# Import the required libraries\n",
        "\n",
        "import pandas as pd\n",
        "import numpy as np"
      ],
      "execution_count": 0,
      "outputs": []
    },
    {
      "cell_type": "code",
      "metadata": {
        "id": "4KErYmJuONNt",
        "colab_type": "code",
        "outputId": "3937d9fa-c43c-4db6-e06e-ec961b7bfe17",
        "colab": {
          "base_uri": "https://localhost:8080/",
          "height": 34
        }
      },
      "source": [
        "print(\"Hello Capstone Project Course!\")"
      ],
      "execution_count": 0,
      "outputs": [
        {
          "output_type": "stream",
          "text": [
            "Hello Capstone Project Course!\n"
          ],
          "name": "stdout"
        }
      ]
    },
    {
      "cell_type": "code",
      "metadata": {
        "id": "ezQoIGtRORkJ",
        "colab_type": "code",
        "colab": {}
      },
      "source": [
        ""
      ],
      "execution_count": 0,
      "outputs": []
    }
  ]
}